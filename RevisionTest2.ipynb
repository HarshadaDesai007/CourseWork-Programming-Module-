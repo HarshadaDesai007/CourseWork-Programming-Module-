{
  "nbformat": 4,
  "nbformat_minor": 0,
  "metadata": {
    "colab": {
      "name": "RevisionTest2.ipynb",
      "provenance": [],
      "authorship_tag": "ABX9TyMZ6tr7ybA2oGMv0czPyIaM",
      "include_colab_link": true
    },
    "kernelspec": {
      "name": "python3",
      "display_name": "Python 3"
    }
  },
  "cells": [
    {
      "cell_type": "markdown",
      "metadata": {
        "id": "view-in-github",
        "colab_type": "text"
      },
      "source": [
        "<a href=\"https://colab.research.google.com/github/HarshadaDesai007/CourseWork-Programming-Module-/blob/main/RevisionTest2.ipynb\" target=\"_parent\"><img src=\"https://colab.research.google.com/assets/colab-badge.svg\" alt=\"Open In Colab\"/></a>"
      ]
    },
    {
      "cell_type": "markdown",
      "metadata": {
        "id": "HoAtmzgnLJH7"
      },
      "source": [
        "##### Q1 .List with odd and even index elements from two lists"
      ]
    },
    {
      "cell_type": "code",
      "metadata": {
        "colab": {
          "base_uri": "https://localhost:8080/"
        },
        "id": "G-p3rvMOLE9l",
        "outputId": "ac570551-ddcc-4afa-ba2d-b6ba18d24430"
      },
      "source": [
        "n1 = int(input(\"Number of elements in the first list : \"))\r\n",
        "n2 = int(input(\"Number of elements in the second list : \"))\r\n",
        "L1 = []\r\n",
        "L2 = []\r\n",
        "L3 = []\r\n",
        "print(\"Elements in List 1\")\r\n",
        "for i in range(n1):\r\n",
        "  L1.append(input())\r\n",
        "print(\"Elements in List 2\")\r\n",
        "for i in range(n2):\r\n",
        "  L2.append(input())\r\n",
        "print(\"listOne\",L1)\r\n",
        "print(\"listTwo\",L2)\r\n",
        "print(\"Elememts at odd index \",L1[1::2])\r\n",
        "print(\"Elements at even index \",L2[::2])\r\n",
        "L3 = L1[1::2] + L2[::2]\r\n",
        "print(\"Final List\",L3)\r\n",
        "\r\n",
        "    \r\n"
      ],
      "execution_count": 1,
      "outputs": [
        {
          "output_type": "stream",
          "text": [
            "Number of elements in the first list : 3\n",
            "Number of elements in the second list : 4\n",
            "Elements in List 1\n",
            "1\n",
            "2\n",
            "3\n",
            "Elements in List 2\n",
            "2\n",
            "3\n",
            "4\n",
            "5\n",
            "listOne ['1', '2', '3']\n",
            "listTwo ['2', '3', '4', '5']\n",
            "Elememts at odd index  ['2']\n",
            "Elements at even index  ['2', '4']\n",
            "Final List ['2', '2', '4']\n"
          ],
          "name": "stdout"
        }
      ]
    },
    {
      "cell_type": "markdown",
      "metadata": {
        "id": "Kj3e3cY42fyu"
      },
      "source": [
        "##### Q2. Remove an element from position 4 , add it to position 2 and also at the end of the list"
      ]
    },
    {
      "cell_type": "code",
      "metadata": {
        "colab": {
          "base_uri": "https://localhost:8080/"
        },
        "id": "7VVJqC7gMitd",
        "outputId": "99c33310-e000-47c9-89c2-b6800b730f97"
      },
      "source": [
        "n = int(input(\"Enter the number of elements: \"))\r\n",
        "L = []\r\n",
        "for i in range(n):\r\n",
        "  L.append(input())\r\n",
        "print(\"Original List :\",L)\r\n",
        "x = L.pop(4)\r\n",
        "print(\"List after removing element at index 4 \",L)\r\n",
        "L.insert(2,x)\r\n",
        "print(\"List after adding element at index 2\",L)\r\n",
        "L.append(x)\r\n",
        "print(\"List after adding element at last \",L)\r\n",
        " \r\n",
        " \r\n"
      ],
      "execution_count": 5,
      "outputs": [
        {
          "output_type": "stream",
          "text": [
            "Enter the number of elements: 7\n",
            "34\n",
            "54\n",
            "67\n",
            "11\n",
            "89\n",
            "43\n",
            "25\n",
            "Original List : ['34', '54', '67', '11', '89', '43', '25']\n",
            "List after removing element at index 4  ['34', '54', '67', '11', '43', '25']\n",
            "List after adding element at index 2 ['34', '54', '89', '67', '11', '43', '25']\n",
            "List after adding element at last  ['34', '54', '89', '67', '11', '43', '25', '89']\n"
          ],
          "name": "stdout"
        }
      ]
    },
    {
      "cell_type": "markdown",
      "metadata": {
        "id": "5xfnLxFC40N6"
      },
      "source": [
        "#### Q3. Slice a list into three equal chunks and reverse each chunk."
      ]
    },
    {
      "cell_type": "code",
      "metadata": {
        "colab": {
          "base_uri": "https://localhost:8080/"
        },
        "id": "FNyaR-q13yMJ",
        "outputId": "b9419461-9df4-496b-a4b2-2c66965d863a"
      },
      "source": [
        "n = int(input(\"Enter the number of elements: \"))\r\n",
        "L = []\r\n",
        "for i in range(n):\r\n",
        "  L.append(int(input()))\r\n",
        "x = [L[i:i + 3] for i in range(0, len(L), 3)] \r\n",
        "l1 = x[0]\r\n",
        "l2 = x[1]\r\n",
        "l3 = x[2]\r\n",
        "print(\"Chunk 1 \",l1)\r\n",
        "print(\"After reversing it\",l1[::-1])\r\n",
        "print(\"Chunk 2 \",l2)\r\n",
        "print(\"After reversing it\",l2[::-1])\r\n",
        "print(\"Chunk 3 \",l3)\r\n",
        "print(\"After reversing it\",l3[::-1])\r\n"
      ],
      "execution_count": 22,
      "outputs": [
        {
          "output_type": "stream",
          "text": [
            "Enter the number of elements: 9\n",
            "1\n",
            "2\n",
            "3\n",
            "4\n",
            "5\n",
            "6\n",
            "7\n",
            "8\n",
            "9\n",
            "Chunk 1  [1, 2, 3]\n",
            "After reversing it [3, 2, 1]\n",
            "Chunk 2  [4, 5, 6]\n",
            "After reversing it [6, 5, 4]\n",
            "Chunk 3  [7, 8, 9]\n",
            "After reversing it [9, 8, 7]\n"
          ],
          "name": "stdout"
        }
      ]
    },
    {
      "cell_type": "markdown",
      "metadata": {
        "id": "5acS4vM6DdH8"
      },
      "source": [
        "##### Q4.Count the occurrence of each element in a list"
      ]
    },
    {
      "cell_type": "code",
      "metadata": {
        "colab": {
          "base_uri": "https://localhost:8080/"
        },
        "id": "CaKg2PACAWgj",
        "outputId": "6773fb7a-6499-4d72-cc9a-02d95e79a7b2"
      },
      "source": [
        "n = int(input(\"Enter the number of elements: \"))\r\n",
        "L = []\r\n",
        "for i in range(n):\r\n",
        "  L.append(int(input()))\r\n",
        "d = {}\r\n",
        "uniquele = sorted(list(set(L)))\r\n",
        "for ele in uniquele:\r\n",
        "  d[ele] = 0\r\n",
        "for ele in L:\r\n",
        "  d[ele]+=1\r\n",
        "for key,values in d.items():\r\n",
        "  print(\"{} occurs {} times\".format(key,values))   \r\n",
        "\r\n",
        "\r\n",
        "\r\n",
        "\r\n"
      ],
      "execution_count": 23,
      "outputs": [
        {
          "output_type": "stream",
          "text": [
            "Enter the number of elements: 5\n",
            "1\n",
            "1\n",
            "2\n",
            "3\n",
            "3\n",
            "1 occurs 2 times\n",
            "2 occurs 1 times\n",
            "3 occurs 2 times\n"
          ],
          "name": "stdout"
        }
      ]
    },
    {
      "cell_type": "markdown",
      "metadata": {
        "id": "OKXwjJZKFotZ"
      },
      "source": [
        "##### Q5. Form a set of elements"
      ]
    },
    {
      "cell_type": "code",
      "metadata": {
        "colab": {
          "base_uri": "https://localhost:8080/"
        },
        "id": "_GU4q1EDEyGw",
        "outputId": "9e92e2a9-9347-4de1-8d50-6596ca5b7476"
      },
      "source": [
        "n = int(input(\"Enter the number of elements: \"))\r\n",
        "L1 = []\r\n",
        "for i in range(n):\r\n",
        "  L1.append(int(input()))\r\n",
        "print(\"First List \",L1)\r\n",
        "L2 = []\r\n",
        "for i in range(len(L1)):\r\n",
        "  ele = L1[i]*L1[i]\r\n",
        "  L2.append(ele)\r\n",
        "print(\"Second List\",L2)\r\n",
        "s = set((ele_1, ele_2) for ele_1, ele_2 in zip(L1, L2) if ele_2==ele_1**2)    \r\n",
        "print(\"Result is \",s)"
      ],
      "execution_count": 31,
      "outputs": [
        {
          "output_type": "stream",
          "text": [
            "Enter the number of elements: 3\n",
            "1\n",
            "2\n",
            "3\n",
            "First List  [1, 2, 3]\n",
            "Second List [1, 4, 9]\n",
            "Result is  {(3, 9), (1, 1), (2, 4)}\n"
          ],
          "name": "stdout"
        }
      ]
    },
    {
      "cell_type": "markdown",
      "metadata": {
        "id": "ebPRkUifPkDO"
      },
      "source": [
        "##### Q7.Check if one set is subset of other and delete the elements if found "
      ]
    },
    {
      "cell_type": "code",
      "metadata": {
        "colab": {
          "base_uri": "https://localhost:8080/"
        },
        "id": "I177d5fBG6HF",
        "outputId": "c879b21a-7dab-4442-92c2-b2c044bbfb00"
      },
      "source": [
        "L1 =[]\r\n",
        "L2 =[] \r\n",
        "n1 = int(input(\"Enter number of elements in first set \"))\r\n",
        "for i in range(n1):\r\n",
        "  L1.append(int(input()))\r\n",
        "s1 = set(L1)  \r\n",
        " \r\n",
        "n2 = int(input(\"Enter number of elements in second set \"))\r\n",
        "for i in range(n2):\r\n",
        "  L2.append(int(input()))\r\n",
        "s2 = set(L2)\r\n",
        "\r\n",
        "print(\"First Set\",s1) \r\n",
        "print(\"Second Set\",s2)   \r\n",
        "x = s1.issubset(s2)\r\n",
        "y = s2.issubset(s1)\r\n",
        "print(\"First set is a subset of second set \",x)  \r\n",
        "print(\"Second set is a subset of first set \",y) \r\n",
        "print(\"First set is a superset of second set \",not x) \r\n",
        "print(\"Second set is a superset of first set \",not y)\r\n",
        "if (s1.issubset(s2)):\r\n",
        "  s1=s1.difference(s2)\r\n",
        "else:\r\n",
        "  s2=s2.difference(s1)\r\n",
        "print(\"First Set\",s1) \r\n",
        "print(\"Second Set\",s2)       "
      ],
      "execution_count": 42,
      "outputs": [
        {
          "output_type": "stream",
          "text": [
            "Enter number of elements in first set 3\n",
            "1\n",
            "2\n",
            "3\n",
            "Enter number of elements in second set 5\n",
            "1\n",
            "2\n",
            "3\n",
            "4\n",
            "5\n",
            "First Set {1, 2, 3}\n",
            "Second Set {1, 2, 3, 4, 5}\n",
            "First set is a subset of second set  True\n",
            "Second set is a subset of first set  False\n",
            "First set is a superset of second set  False\n",
            "Second set is a superset of first set  True\n",
            "First Set set()\n",
            "Second Set {1, 2, 3, 4, 5}\n"
          ],
          "name": "stdout"
        }
      ]
    },
    {
      "cell_type": "markdown",
      "metadata": {
        "id": "XvKoFygPTQst"
      },
      "source": [
        "##### Q6. Intersection of sets and remove the common elements"
      ]
    },
    {
      "cell_type": "code",
      "metadata": {
        "colab": {
          "base_uri": "https://localhost:8080/"
        },
        "id": "t4eqNxVZSt6J",
        "outputId": "7544ff59-4813-454b-f172-99bce393aeb4"
      },
      "source": [
        "L1 =[]\r\n",
        "L2 =[] \r\n",
        "n1 = int(input(\"Enter number of elements in first set \"))\r\n",
        "for i in range(n1):\r\n",
        "  L1.append(int(input()))\r\n",
        "s1 = set(L1)  \r\n",
        " \r\n",
        "n2 = int(input(\"Enter number of elements in second set \"))\r\n",
        "for i in range(n2):\r\n",
        "  L2.append(int(input()))\r\n",
        "s2 = set(L2)\r\n",
        "\r\n",
        "s3 = s1.intersection(s2)\r\n",
        "print(\"Intersection is \",s3)\r\n",
        "s1 = s1.difference(s3)\r\n",
        "print(\"First set after removing common elements \",s1)\r\n",
        " \r\n"
      ],
      "execution_count": 46,
      "outputs": [
        {
          "output_type": "stream",
          "text": [
            "Enter number of elements in first set 4\n",
            "1\n",
            "2\n",
            "3\n",
            "4\n",
            "Enter number of elements in second set 3\n",
            "1\n",
            "4\n",
            "6\n",
            "Intersection is  {1, 4}\n",
            "First set after removing common elements  {2, 3}\n"
          ],
          "name": "stdout"
        }
      ]
    },
    {
      "cell_type": "markdown",
      "metadata": {
        "id": "ovoBfggjVpMt"
      },
      "source": [
        "###### Q8. Remove unwanted elements from dictionary "
      ]
    },
    {
      "cell_type": "code",
      "metadata": {
        "colab": {
          "base_uri": "https://localhost:8080/"
        },
        "id": "r-t5qcXiT1qq",
        "outputId": "6d35ffc5-d9a0-4f3c-f86f-417b96b01a69"
      },
      "source": [
        "rollno = []\r\n",
        "sampleDict = {}\r\n",
        "n = int(input(\"How many roll numbers you want to enter? \"))\r\n",
        "for i in range(n):\r\n",
        "  rollno.append(int(input()))\r\n",
        "n1 = int(input(\"How many entries in the dictionary? \"))\r\n",
        "for i in range(n1):\r\n",
        "  name = input(\"Enter student name :\")\r\n",
        "  roll = int(input(\"Enter the student roll number :\"))\r\n",
        "  sampleDict[name] = roll \r\n",
        "testList = sampleDict.values()\r\n",
        "\r\n",
        "for ele in rollno:\r\n",
        "  if (ele not in testList):\r\n",
        "    rollno.remove(ele) \r\n",
        "print(\"After removing unwanted elements from the list :\",rollno)        \r\n",
        "\r\n",
        "  \r\n",
        "    \r\n"
      ],
      "execution_count": 65,
      "outputs": [
        {
          "output_type": "stream",
          "text": [
            "How many roll numbers you want to enter? 8\n",
            "47\n",
            "64\n",
            "69\n",
            "37\n",
            "76\n",
            "83\n",
            "95\n",
            "97\n",
            "How many entries in the dictionary? 4\n",
            "Enter student name :John\n",
            "Enter the student roll number :47\n",
            "Enter student name :Emma\n",
            "Enter the student roll number :69\n",
            "Enter student name :Kelly\n",
            "Enter the student roll number :76\n",
            "Enter student name :Jason\n",
            "Enter the student roll number :97\n",
            "After removing unwanted elements from the list : [47, 69, 76, 95, 97]\n"
          ],
          "name": "stdout"
        }
      ]
    }
  ]
}