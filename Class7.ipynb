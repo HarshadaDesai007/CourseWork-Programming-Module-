{
  "nbformat": 4,
  "nbformat_minor": 0,
  "metadata": {
    "colab": {
      "name": "Class7.ipynb",
      "provenance": [],
      "collapsed_sections": [],
      "toc_visible": true,
      "authorship_tag": "ABX9TyM2Wi7F2dRUrWhTp3xDVRtD",
      "include_colab_link": true
    },
    "kernelspec": {
      "name": "python3",
      "display_name": "Python 3"
    }
  },
  "cells": [
    {
      "cell_type": "markdown",
      "metadata": {
        "id": "view-in-github",
        "colab_type": "text"
      },
      "source": [
        "<a href=\"https://colab.research.google.com/github/HarshadaDesai007/CourseWork-Programming-Module-/blob/main/Class7.ipynb\" target=\"_parent\"><img src=\"https://colab.research.google.com/assets/colab-badge.svg\" alt=\"Open In Colab\"/></a>"
      ]
    },
    {
      "cell_type": "code",
      "metadata": {
        "colab": {
          "base_uri": "https://localhost:8080/"
        },
        "id": "MMf7qHq8jHyp",
        "outputId": "ab7097bf-82a8-4403-d8b6-96479556b128"
      },
      "source": [
        "def print_menu():\n",
        "    print(\"**********Welcome to the online Banking system***********\")\n",
        "    print('1. Show customers')\n",
        "    print('2. Add an account')\n",
        "    print('3. Remove a customer')\n",
        "    print('4. Deposit money')\n",
        "    print('5. Withdraw money')\n",
        "    print('6. Quit')\n",
        "    print()\n",
        "\n",
        "numbers = {}\n",
        "menu_choice = 0\n",
        "print_menu()\n",
        "while menu_choice != 5:\n",
        "  menu_choice = int(input(\"Type in a number (1-5): \"))\n",
        "  if menu_choice == 1:\n",
        "        print(\"Account deatils :\")\n",
        "        for x in numbers.keys():\n",
        "            print(\"Name: \", x, \"\\t Balance:\", numbers[x])\n",
        "        print()\n",
        "  elif menu_choice == 2:   \n",
        "        print(\"Add Name and Balance\")\n",
        "        name = input(\"Name:\")\n",
        "        balance = int(input(\"Balance:\"))\n",
        "        numbers[name] = balance\n",
        "  elif menu_choice == 3:\n",
        "        print(\"Remove Customer\")\n",
        "        name = input(\"Name:\")\n",
        "        if name in numbers:\n",
        "            del numbers[name]\n",
        "        else:\n",
        "            print(name, \"was not found\")\n",
        "  elif menu_choice == 4:\n",
        "        balance=0\n",
        "        print(\"Deposit money\")\n",
        "        name = input(\"Name:\")\n",
        "        deposit = int(input(\"Enter money to deposit\"))\n",
        "        if name in numbers:\n",
        "            print(\"The balance is\", numbers[name])\n",
        "            numbers[name]+=deposit\n",
        "            print(\"The new balance is\", numbers[name])\n",
        "        else:\n",
        "            print(name, \"Record was not found\")\n",
        "\n",
        "  elif menu_choice == 5:\n",
        "        balance=0\n",
        "        print(\"Withdraw money\")\n",
        "        name = input(\"Name:\")\n",
        "        withdraw = int(input(\"Enter money to withdraw\"))\n",
        "        if name in numbers:\n",
        "            print(\"The balance is\", numbers[name])\n",
        "            if withdraw<balance:\n",
        "              numbers[name]-=withdraw\n",
        "            else:\n",
        "              print(\"Cannot withdraw amount\")\n",
        "            \n",
        "            print(\"The new balance is\", numbers[name])\n",
        "        else:\n",
        "            print(name, \"Record was not found\")\n",
        "        \n",
        "  elif menu_choice != 6:\n",
        "        print_menu()\n"
      ],
      "execution_count": null,
      "outputs": [
        {
          "output_type": "stream",
          "text": [
            "**********Welcome to the online Banking system***********\n",
            "1. Show customers\n",
            "2. Add an account\n",
            "3. Remove a customer\n",
            "4. Deposit money\n",
            "5. Withdraw money\n",
            "6. Quit\n",
            "\n",
            "Type in a number (1-5): 2\n",
            "Add Name and Balance\n",
            "Name:\n",
            "Balance:100\n",
            "Type in a number (1-5): 5\n",
            "Withdraw money\n",
            "Name:\n",
            "Enter money to withdraw100\n",
            "The balance is 100\n",
            "Cannot withdraw amount\n",
            "The new balance is 100\n"
          ],
          "name": "stdout"
        }
      ]
    },
    {
      "cell_type": "code",
      "metadata": {
        "colab": {
          "base_uri": "https://localhost:8080/"
        },
        "id": "1_yIQ7BHjn5P",
        "outputId": "ec786a19-efca-4cda-e85b-039d63875990"
      },
      "source": [
        "q! pip install db-sqlite3"
      ],
      "execution_count": null,
      "outputs": [
        {
          "output_type": "stream",
          "text": [
            "Requirement already satisfied: db-sqlite3 in /usr/local/lib/python3.6/dist-packages (0.0.1)\n",
            "Requirement already satisfied: db in /usr/local/lib/python3.6/dist-packages (from db-sqlite3) (0.1.1)\n",
            "Requirement already satisfied: antiorm in /usr/local/lib/python3.6/dist-packages (from db->db-sqlite3) (1.2.1)\n"
          ],
          "name": "stdout"
        }
      ]
    },
    {
      "cell_type": "code",
      "metadata": {
        "id": "_VZl1b9zrn5m"
      },
      "source": [
        "import pandas as pd\n",
        "import sqlite3\n",
        "from datetime import time"
      ],
      "execution_count": null,
      "outputs": []
    },
    {
      "cell_type": "code",
      "metadata": {
        "id": "N8lAhg6ZttBR"
      },
      "source": [
        "db = sqlite3.connect(\"Abhi_testing.db\")\n",
        "db.execute(\"drop table if exists results\")\n",
        "try:\n",
        "  db.execute(\"create table results(Name text , Mobile text, Mail text)\")\n",
        "except:\n",
        "  print(\"Already exists!\")  \n"
      ],
      "execution_count": null,
      "outputs": []
    },
    {
      "cell_type": "code",
      "metadata": {
        "id": "7GHoioBzubkG"
      },
      "source": [
        "db = sqlite3.connect(\"Abhi_testing.db\")"
      ],
      "execution_count": null,
      "outputs": []
    },
    {
      "cell_type": "code",
      "metadata": {
        "id": "AxmebDZUugSB"
      },
      "source": [
        "Name = \"Harshada\"\n",
        "Mobile = \"45363782\"\n",
        "Mail = \"harshada@gmail.com\"\n",
        "\n",
        "cmd = \"insert into results(Name, Mobile, Mail) values ('{}','{}','{}')\".format(Name,Mobile,Mail)\n",
        "db.execute(cmd)\n",
        "db.commit()"
      ],
      "execution_count": null,
      "outputs": []
    },
    {
      "cell_type": "code",
      "metadata": {
        "id": "2knLWO4ivDam"
      },
      "source": [
        "db = sqlite3.connect(\"Abhi_testing.db\")"
      ],
      "execution_count": null,
      "outputs": []
    },
    {
      "cell_type": "code",
      "metadata": {
        "colab": {
          "base_uri": "https://localhost:8080/"
        },
        "id": "1hrEemViwo4Y",
        "outputId": "29cfc58c-b4c5-47a1-eee2-b90033fdbf09"
      },
      "source": [
        "res = db.execute(\"Select * from results\")\n",
        "for rows in res:\n",
        "  print(rows)"
      ],
      "execution_count": null,
      "outputs": [
        {
          "output_type": "stream",
          "text": [
            "('Harshada', '45363782', 'harshada@gmail.com')\n"
          ],
          "name": "stdout"
        }
      ]
    },
    {
      "cell_type": "code",
      "metadata": {
        "id": "GbTOi-C6w8up"
      },
      "source": [
        "db = sqlite3.connect(\"Banking1.db\")\n",
        "db.execute(\"drop table if exists results\")\n",
        "try:\n",
        "  db.execute(\"create table Bank2(Name text , Account_Number text, Balance int)\")\n",
        "except:\n",
        "  print(\"Already exists!\")  "
      ],
      "execution_count": null,
      "outputs": []
    },
    {
      "cell_type": "code",
      "metadata": {
        "id": "dr_EYHcex6nS"
      },
      "source": [
        "db = sqlite3.connect(\"Banking1.db\")"
      ],
      "execution_count": null,
      "outputs": []
    },
    {
      "cell_type": "code",
      "metadata": {
        "colab": {
          "base_uri": "https://localhost:8080/"
        },
        "id": "6lVbQ3qhx_Ry",
        "outputId": "b87d0739-88e2-42ee-93c2-d7d76e15ab50"
      },
      "source": [
        "#n = int(input('How many customers ?'))\n",
        "for i in range(4):\n",
        "  Name = input(\"Enter the name\")\n",
        "  Account_Number = input(\"Enter account number\")\n",
        "  Balance = input(\"Balance amount\")\n",
        "  cmd = \"insert into Bank2(Name, Account_Number,Balance) values ('{}','{}','{}')\".format(Name,Account_Number,Balance)\n",
        "  db.execute(cmd)\n",
        "  db.commit()"
      ],
      "execution_count": null,
      "outputs": [
        {
          "output_type": "stream",
          "text": [
            "Enter the nameA\n",
            "Enter account number100\n",
            "Balance amount10000\n",
            "Enter the namePrasad\n",
            "Enter account number102\n",
            "Balance amount2500000\n",
            "Enter the nameHarshada\n",
            "Enter account number103\n",
            "Balance amount200000\n",
            "Enter the nameSanjog\n",
            "Enter account number17\n",
            "Balance amount9000000000\n"
          ],
          "name": "stdout"
        }
      ]
    },
    {
      "cell_type": "code",
      "metadata": {
        "colab": {
          "base_uri": "https://localhost:8080/"
        },
        "id": "3fVJTeSLy1gN",
        "outputId": "6179be30-175b-4d95-9a1b-3132a2352c32"
      },
      "source": [
        "res = db.execute(\"Select * from Bank2\")\n",
        "for rows in res:\n",
        "  print(rows)"
      ],
      "execution_count": null,
      "outputs": [
        {
          "output_type": "stream",
          "text": [
            "('A', '100', 10000)\n",
            "('Prasad', '102', 2500000)\n",
            "('Harshada', '103', 200000)\n",
            "('Sanjog', '17', 9000000000)\n"
          ],
          "name": "stdout"
        }
      ]
    },
    {
      "cell_type": "code",
      "metadata": {
        "id": "-AE2i61ezQGB",
        "colab": {
          "base_uri": "https://localhost:8080/",
          "height": 166
        },
        "outputId": "97f65eb5-b203-4950-ea39-64d68d137430"
      },
      "source": [
        "db = sqlite3.connect(\"Banking1.db\")\n",
        "qry = \"\"\"\n",
        "Select * from Bank2\n",
        "\"\"\"\n",
        "df = pd.read_sql_query(qry,db)\n",
        "df.head()\n",
        "\n"
      ],
      "execution_count": null,
      "outputs": [
        {
          "output_type": "execute_result",
          "data": {
            "text/html": [
              "<div>\n",
              "<style scoped>\n",
              "    .dataframe tbody tr th:only-of-type {\n",
              "        vertical-align: middle;\n",
              "    }\n",
              "\n",
              "    .dataframe tbody tr th {\n",
              "        vertical-align: top;\n",
              "    }\n",
              "\n",
              "    .dataframe thead th {\n",
              "        text-align: right;\n",
              "    }\n",
              "</style>\n",
              "<table border=\"1\" class=\"dataframe\">\n",
              "  <thead>\n",
              "    <tr style=\"text-align: right;\">\n",
              "      <th></th>\n",
              "      <th>Name</th>\n",
              "      <th>Account_Number</th>\n",
              "      <th>Balance</th>\n",
              "    </tr>\n",
              "  </thead>\n",
              "  <tbody>\n",
              "    <tr>\n",
              "      <th>0</th>\n",
              "      <td>A</td>\n",
              "      <td>100</td>\n",
              "      <td>10000</td>\n",
              "    </tr>\n",
              "    <tr>\n",
              "      <th>1</th>\n",
              "      <td>Prasad</td>\n",
              "      <td>102</td>\n",
              "      <td>2500000</td>\n",
              "    </tr>\n",
              "    <tr>\n",
              "      <th>2</th>\n",
              "      <td>Harshada</td>\n",
              "      <td>103</td>\n",
              "      <td>200000</td>\n",
              "    </tr>\n",
              "    <tr>\n",
              "      <th>3</th>\n",
              "      <td>Sanjog</td>\n",
              "      <td>17</td>\n",
              "      <td>9000000000</td>\n",
              "    </tr>\n",
              "  </tbody>\n",
              "</table>\n",
              "</div>"
            ],
            "text/plain": [
              "       Name Account_Number     Balance\n",
              "0         A            100       10000\n",
              "1    Prasad            102     2500000\n",
              "2  Harshada            103      200000\n",
              "3    Sanjog             17  9000000000"
            ]
          },
          "metadata": {
            "tags": []
          },
          "execution_count": 95
        }
      ]
    },
    {
      "cell_type": "code",
      "metadata": {
        "colab": {
          "base_uri": "https://localhost:8080/",
          "height": 47
        },
        "id": "h06gebp3839T",
        "outputId": "cda01415-1498-43b8-a735-05e0333d61ff"
      },
      "source": [
        "df.loc[df[\"Balance\"]<1000]"
      ],
      "execution_count": null,
      "outputs": [
        {
          "output_type": "execute_result",
          "data": {
            "text/html": [
              "<div>\n",
              "<style scoped>\n",
              "    .dataframe tbody tr th:only-of-type {\n",
              "        vertical-align: middle;\n",
              "    }\n",
              "\n",
              "    .dataframe tbody tr th {\n",
              "        vertical-align: top;\n",
              "    }\n",
              "\n",
              "    .dataframe thead th {\n",
              "        text-align: right;\n",
              "    }\n",
              "</style>\n",
              "<table border=\"1\" class=\"dataframe\">\n",
              "  <thead>\n",
              "    <tr style=\"text-align: right;\">\n",
              "      <th></th>\n",
              "      <th>Name</th>\n",
              "      <th>Account_Number</th>\n",
              "      <th>Balance</th>\n",
              "    </tr>\n",
              "  </thead>\n",
              "  <tbody>\n",
              "  </tbody>\n",
              "</table>\n",
              "</div>"
            ],
            "text/plain": [
              "Empty DataFrame\n",
              "Columns: [Name, Account_Number, Balance]\n",
              "Index: []"
            ]
          },
          "metadata": {
            "tags": []
          },
          "execution_count": 96
        }
      ]
    },
    {
      "cell_type": "markdown",
      "metadata": {
        "id": "XVj7nroo_SAB"
      },
      "source": [
        "### Batchwise data transfer to a DB"
      ]
    },
    {
      "cell_type": "code",
      "metadata": {
        "id": "fsOxDVU49Rj6"
      },
      "source": [
        "def pushtoDB(Name, Account_Number, Balance):\n",
        "  db = sqlite3.connect(\"Banking.db\")\n",
        "  cmd = \"insert into Bank(Name, Account_Number,Balance) values ('{}','{}','{}')\".format(Name,Account_Number,Balance)\n",
        "  db.execute(cmd)\n",
        "  db.commit()"
      ],
      "execution_count": null,
      "outputs": []
    },
    {
      "cell_type": "code",
      "metadata": {
        "id": "EujzuR4i_Q7A"
      },
      "source": [
        "pushtoDB(\"Harshada\",\"23455\",\"5000000\")"
      ],
      "execution_count": null,
      "outputs": []
    },
    {
      "cell_type": "code",
      "metadata": {
        "colab": {
          "base_uri": "https://localhost:8080/",
          "height": 77
        },
        "id": "iUcIHwWeBFAf",
        "outputId": "c84337c0-1e88-4b0b-b991-c3b1d632e64b"
      },
      "source": [
        "db = sqlite3.connect(\"Banking1.db\")\n",
        "qry = \"Select * from Bank2 where Name = 'Harshada' \"\n",
        "df = pd.read_sql_query(qry,db)\n",
        "df.head()"
      ],
      "execution_count": null,
      "outputs": [
        {
          "output_type": "execute_result",
          "data": {
            "text/html": [
              "<div>\n",
              "<style scoped>\n",
              "    .dataframe tbody tr th:only-of-type {\n",
              "        vertical-align: middle;\n",
              "    }\n",
              "\n",
              "    .dataframe tbody tr th {\n",
              "        vertical-align: top;\n",
              "    }\n",
              "\n",
              "    .dataframe thead th {\n",
              "        text-align: right;\n",
              "    }\n",
              "</style>\n",
              "<table border=\"1\" class=\"dataframe\">\n",
              "  <thead>\n",
              "    <tr style=\"text-align: right;\">\n",
              "      <th></th>\n",
              "      <th>Name</th>\n",
              "      <th>Account_Number</th>\n",
              "      <th>Balance</th>\n",
              "    </tr>\n",
              "  </thead>\n",
              "  <tbody>\n",
              "    <tr>\n",
              "      <th>0</th>\n",
              "      <td>Harshada</td>\n",
              "      <td>103</td>\n",
              "      <td>200000</td>\n",
              "    </tr>\n",
              "  </tbody>\n",
              "</table>\n",
              "</div>"
            ],
            "text/plain": [
              "       Name Account_Number  Balance\n",
              "0  Harshada            103   200000"
            ]
          },
          "metadata": {
            "tags": []
          },
          "execution_count": 97
        }
      ]
    },
    {
      "cell_type": "code",
      "metadata": {
        "id": "nFwky0QKBdZV"
      },
      "source": [
        "for i in range(0,len(df)):\n",
        "  pushtoDB(df.iloc[i][0],df.iloc[i][1],df.iloc[i][2])"
      ],
      "execution_count": null,
      "outputs": []
    },
    {
      "cell_type": "code",
      "metadata": {
        "colab": {
          "base_uri": "https://localhost:8080/",
          "height": 77
        },
        "id": "YWikzqG2DgH4",
        "outputId": "7b0210c2-eba7-4c62-f751-bc4815ea6a00"
      },
      "source": [
        "df.head()\n"
      ],
      "execution_count": null,
      "outputs": [
        {
          "output_type": "execute_result",
          "data": {
            "text/html": [
              "<div>\n",
              "<style scoped>\n",
              "    .dataframe tbody tr th:only-of-type {\n",
              "        vertical-align: middle;\n",
              "    }\n",
              "\n",
              "    .dataframe tbody tr th {\n",
              "        vertical-align: top;\n",
              "    }\n",
              "\n",
              "    .dataframe thead th {\n",
              "        text-align: right;\n",
              "    }\n",
              "</style>\n",
              "<table border=\"1\" class=\"dataframe\">\n",
              "  <thead>\n",
              "    <tr style=\"text-align: right;\">\n",
              "      <th></th>\n",
              "      <th>Name</th>\n",
              "      <th>Account_Number</th>\n",
              "      <th>Balance</th>\n",
              "    </tr>\n",
              "  </thead>\n",
              "  <tbody>\n",
              "    <tr>\n",
              "      <th>0</th>\n",
              "      <td>Harshada</td>\n",
              "      <td>23455</td>\n",
              "      <td>5000000</td>\n",
              "    </tr>\n",
              "  </tbody>\n",
              "</table>\n",
              "</div>"
            ],
            "text/plain": [
              "       Name Account_Number  Balance\n",
              "0  Harshada          23455  5000000"
            ]
          },
          "metadata": {
            "tags": []
          },
          "execution_count": 66
        }
      ]
    },
    {
      "cell_type": "code",
      "metadata": {
        "colab": {
          "base_uri": "https://localhost:8080/",
          "height": 454
        },
        "id": "awpqmJ2EFKeF",
        "outputId": "d4a9ff3f-9d18-4314-df7f-30dd2219b655"
      },
      "source": [
        "def update_Balance():\n",
        "  name = input(\"Whose balance you want to update?\")\n",
        "  choice = input(\"Enter 1 for deposit and -1 for withdraw...You can withdraw or deposit 100 at a time\")\n",
        "  #db = sqlite3.connect(\"Banking1.db\")\n",
        "  if choice == 1 :\n",
        "    qry1 = \"Update Bank2 set Balance = Balance + 100 where Name = name\"\n",
        "    df = pd.read_sql_query(qry1,db)\n",
        "  else:\n",
        "    qry2 = \"Update Bank2 set Balance = Balance - 100 where Name = name\"\n",
        "    df = pd.read_sql_query(qry2,db)\n",
        "  \n",
        "  cmd1 = \"Select * from Bank2 where Name = name\" \n",
        "  df = pd.read_sql_query(cmd1,db)\n",
        "  db.execute(cmd1)\n",
        "  db.commit()\n",
        "  df.head() \n",
        "  \n",
        "update_Balance() "
      ],
      "execution_count": null,
      "outputs": [
        {
          "output_type": "stream",
          "text": [
            "Whose balance you want to update?A\n",
            "Enter 1 for deposit and -1 for withdraw...You can withdraw or deposit 100 at a time1\n"
          ],
          "name": "stdout"
        },
        {
          "output_type": "error",
          "ename": "DatabaseError",
          "evalue": "ignored",
          "traceback": [
            "\u001b[0;31m---------------------------------------------------------------------------\u001b[0m",
            "\u001b[0;31mOperationalError\u001b[0m                          Traceback (most recent call last)",
            "\u001b[0;32m/usr/local/lib/python3.6/dist-packages/pandas/io/sql.py\u001b[0m in \u001b[0;36mexecute\u001b[0;34m(self, *args, **kwargs)\u001b[0m\n\u001b[1;32m   1680\u001b[0m         \u001b[0;32mtry\u001b[0m\u001b[0;34m:\u001b[0m\u001b[0;34m\u001b[0m\u001b[0;34m\u001b[0m\u001b[0m\n\u001b[0;32m-> 1681\u001b[0;31m             \u001b[0mcur\u001b[0m\u001b[0;34m.\u001b[0m\u001b[0mexecute\u001b[0m\u001b[0;34m(\u001b[0m\u001b[0;34m*\u001b[0m\u001b[0margs\u001b[0m\u001b[0;34m,\u001b[0m \u001b[0;34m**\u001b[0m\u001b[0mkwargs\u001b[0m\u001b[0;34m)\u001b[0m\u001b[0;34m\u001b[0m\u001b[0;34m\u001b[0m\u001b[0m\n\u001b[0m\u001b[1;32m   1682\u001b[0m             \u001b[0;32mreturn\u001b[0m \u001b[0mcur\u001b[0m\u001b[0;34m\u001b[0m\u001b[0;34m\u001b[0m\u001b[0m\n",
            "\u001b[0;31mOperationalError\u001b[0m: database is locked",
            "\nThe above exception was the direct cause of the following exception:\n",
            "\u001b[0;31mDatabaseError\u001b[0m                             Traceback (most recent call last)",
            "\u001b[0;32m<ipython-input-101-ea493c8e81ab>\u001b[0m in \u001b[0;36m<module>\u001b[0;34m()\u001b[0m\n\u001b[1;32m     16\u001b[0m   \u001b[0mdf\u001b[0m\u001b[0;34m.\u001b[0m\u001b[0mhead\u001b[0m\u001b[0;34m(\u001b[0m\u001b[0;34m)\u001b[0m\u001b[0;34m\u001b[0m\u001b[0;34m\u001b[0m\u001b[0m\n\u001b[1;32m     17\u001b[0m \u001b[0;34m\u001b[0m\u001b[0m\n\u001b[0;32m---> 18\u001b[0;31m \u001b[0mupdate_Balance\u001b[0m\u001b[0;34m(\u001b[0m\u001b[0;34m)\u001b[0m\u001b[0;34m\u001b[0m\u001b[0;34m\u001b[0m\u001b[0m\n\u001b[0m",
            "\u001b[0;32m<ipython-input-101-ea493c8e81ab>\u001b[0m in \u001b[0;36mupdate_Balance\u001b[0;34m()\u001b[0m\n\u001b[1;32m      8\u001b[0m   \u001b[0;32melse\u001b[0m\u001b[0;34m:\u001b[0m\u001b[0;34m\u001b[0m\u001b[0;34m\u001b[0m\u001b[0m\n\u001b[1;32m      9\u001b[0m     \u001b[0mqry2\u001b[0m \u001b[0;34m=\u001b[0m \u001b[0;34m\"Update Bank2 set Balance = Balance - 100 where Name = name\"\u001b[0m\u001b[0;34m\u001b[0m\u001b[0;34m\u001b[0m\u001b[0m\n\u001b[0;32m---> 10\u001b[0;31m     \u001b[0mdf\u001b[0m \u001b[0;34m=\u001b[0m \u001b[0mpd\u001b[0m\u001b[0;34m.\u001b[0m\u001b[0mread_sql_query\u001b[0m\u001b[0;34m(\u001b[0m\u001b[0mqry2\u001b[0m\u001b[0;34m,\u001b[0m\u001b[0mdb\u001b[0m\u001b[0;34m)\u001b[0m\u001b[0;34m\u001b[0m\u001b[0;34m\u001b[0m\u001b[0m\n\u001b[0m\u001b[1;32m     11\u001b[0m \u001b[0;34m\u001b[0m\u001b[0m\n\u001b[1;32m     12\u001b[0m   \u001b[0mcmd1\u001b[0m \u001b[0;34m=\u001b[0m \u001b[0;34m\"Select * from Bank2 where Name = name\"\u001b[0m\u001b[0;34m\u001b[0m\u001b[0;34m\u001b[0m\u001b[0m\n",
            "\u001b[0;32m/usr/local/lib/python3.6/dist-packages/pandas/io/sql.py\u001b[0m in \u001b[0;36mread_sql_query\u001b[0;34m(sql, con, index_col, coerce_float, params, parse_dates, chunksize)\u001b[0m\n\u001b[1;32m    381\u001b[0m         \u001b[0mcoerce_float\u001b[0m\u001b[0;34m=\u001b[0m\u001b[0mcoerce_float\u001b[0m\u001b[0;34m,\u001b[0m\u001b[0;34m\u001b[0m\u001b[0;34m\u001b[0m\u001b[0m\n\u001b[1;32m    382\u001b[0m         \u001b[0mparse_dates\u001b[0m\u001b[0;34m=\u001b[0m\u001b[0mparse_dates\u001b[0m\u001b[0;34m,\u001b[0m\u001b[0;34m\u001b[0m\u001b[0;34m\u001b[0m\u001b[0m\n\u001b[0;32m--> 383\u001b[0;31m         \u001b[0mchunksize\u001b[0m\u001b[0;34m=\u001b[0m\u001b[0mchunksize\u001b[0m\u001b[0;34m,\u001b[0m\u001b[0;34m\u001b[0m\u001b[0;34m\u001b[0m\u001b[0m\n\u001b[0m\u001b[1;32m    384\u001b[0m     )\n\u001b[1;32m    385\u001b[0m \u001b[0;34m\u001b[0m\u001b[0m\n",
            "\u001b[0;32m/usr/local/lib/python3.6/dist-packages/pandas/io/sql.py\u001b[0m in \u001b[0;36mread_query\u001b[0;34m(self, sql, index_col, coerce_float, params, parse_dates, chunksize)\u001b[0m\n\u001b[1;32m   1725\u001b[0m \u001b[0;34m\u001b[0m\u001b[0m\n\u001b[1;32m   1726\u001b[0m         \u001b[0margs\u001b[0m \u001b[0;34m=\u001b[0m \u001b[0m_convert_params\u001b[0m\u001b[0;34m(\u001b[0m\u001b[0msql\u001b[0m\u001b[0;34m,\u001b[0m \u001b[0mparams\u001b[0m\u001b[0;34m)\u001b[0m\u001b[0;34m\u001b[0m\u001b[0;34m\u001b[0m\u001b[0m\n\u001b[0;32m-> 1727\u001b[0;31m         \u001b[0mcursor\u001b[0m \u001b[0;34m=\u001b[0m \u001b[0mself\u001b[0m\u001b[0;34m.\u001b[0m\u001b[0mexecute\u001b[0m\u001b[0;34m(\u001b[0m\u001b[0;34m*\u001b[0m\u001b[0margs\u001b[0m\u001b[0;34m)\u001b[0m\u001b[0;34m\u001b[0m\u001b[0;34m\u001b[0m\u001b[0m\n\u001b[0m\u001b[1;32m   1728\u001b[0m         \u001b[0mcolumns\u001b[0m \u001b[0;34m=\u001b[0m \u001b[0;34m[\u001b[0m\u001b[0mcol_desc\u001b[0m\u001b[0;34m[\u001b[0m\u001b[0;36m0\u001b[0m\u001b[0;34m]\u001b[0m \u001b[0;32mfor\u001b[0m \u001b[0mcol_desc\u001b[0m \u001b[0;32min\u001b[0m \u001b[0mcursor\u001b[0m\u001b[0;34m.\u001b[0m\u001b[0mdescription\u001b[0m\u001b[0;34m]\u001b[0m\u001b[0;34m\u001b[0m\u001b[0;34m\u001b[0m\u001b[0m\n\u001b[1;32m   1729\u001b[0m \u001b[0;34m\u001b[0m\u001b[0m\n",
            "\u001b[0;32m/usr/local/lib/python3.6/dist-packages/pandas/io/sql.py\u001b[0m in \u001b[0;36mexecute\u001b[0;34m(self, *args, **kwargs)\u001b[0m\n\u001b[1;32m   1691\u001b[0m \u001b[0;34m\u001b[0m\u001b[0m\n\u001b[1;32m   1692\u001b[0m             \u001b[0mex\u001b[0m \u001b[0;34m=\u001b[0m \u001b[0mDatabaseError\u001b[0m\u001b[0;34m(\u001b[0m\u001b[0;34mf\"Execution failed on sql '{args[0]}': {exc}\"\u001b[0m\u001b[0;34m)\u001b[0m\u001b[0;34m\u001b[0m\u001b[0;34m\u001b[0m\u001b[0m\n\u001b[0;32m-> 1693\u001b[0;31m             \u001b[0;32mraise\u001b[0m \u001b[0mex\u001b[0m \u001b[0;32mfrom\u001b[0m \u001b[0mexc\u001b[0m\u001b[0;34m\u001b[0m\u001b[0;34m\u001b[0m\u001b[0m\n\u001b[0m\u001b[1;32m   1694\u001b[0m \u001b[0;34m\u001b[0m\u001b[0m\n\u001b[1;32m   1695\u001b[0m     \u001b[0;34m@\u001b[0m\u001b[0mstaticmethod\u001b[0m\u001b[0;34m\u001b[0m\u001b[0;34m\u001b[0m\u001b[0m\n",
            "\u001b[0;31mDatabaseError\u001b[0m: Execution failed on sql 'Update Bank2 set Balance = Balance - 100 where Name = name': database is locked"
          ]
        }
      ]
    },
    {
      "cell_type": "code",
      "metadata": {
        "id": "m_5Myo2nHHgl"
      },
      "source": [
        ""
      ],
      "execution_count": null,
      "outputs": []
    }
  ]
}