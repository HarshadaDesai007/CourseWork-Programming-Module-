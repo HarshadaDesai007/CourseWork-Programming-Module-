{
  "nbformat": 4,
  "nbformat_minor": 0,
  "metadata": {
    "colab": {
      "name": "Week5.ipynb",
      "provenance": [],
      "authorship_tag": "ABX9TyONAOE8R7m6tyulgE+P8a3Q",
      "include_colab_link": true
    },
    "kernelspec": {
      "name": "python3",
      "display_name": "Python 3"
    }
  },
  "cells": [
    {
      "cell_type": "markdown",
      "metadata": {
        "id": "view-in-github",
        "colab_type": "text"
      },
      "source": [
        "<a href=\"https://colab.research.google.com/github/HarshadaDesai007/CourseWork-Programming-Module-/blob/main/Week5.ipynb\" target=\"_parent\"><img src=\"https://colab.research.google.com/assets/colab-badge.svg\" alt=\"Open In Colab\"/></a>"
      ]
    },
    {
      "cell_type": "code",
      "metadata": {
        "id": "VVafI5xQZDvb"
      },
      "source": [
        "def calculate_BMI():\n",
        "  weight = float(input('Please enter your weight (Kg) '))\n",
        "  height = float(input('Please enter your height (cm) '))\n",
        "  bmi = (weight/(height*height))\n",
        "\n",
        "  if bmi <= 24:\n",
        "    print('Your BMI is', bmi, ' You are underweight.You need to follow a proper diet')\n",
        "\n",
        "  elif 24 < bmi < 30:\n",
        "    print('Your BMI is', bmi,' You are normal.')\n",
        "\n",
        "  elif 30 < bmi < 36:\n",
        "    print('your BMI is', bmi,' You are overweight.Start exercising.')\n",
        "\n",
        "  elif bmi > 36:\n",
        "    print('Your BMI is', bmi,'You are obese. Your health needs attention.')\n",
        " \n",
        " \n",
        "\n",
        "\n"
      ],
      "execution_count": null,
      "outputs": []
    },
    {
      "cell_type": "code",
      "metadata": {
        "colab": {
          "base_uri": "https://localhost:8080/"
        },
        "id": "cEm7eXcmaH_9",
        "outputId": "65ed7ecd-49c2-4af4-c744-17b810244f74"
      },
      "source": [
        "calculate_BMI()"
      ],
      "execution_count": null,
      "outputs": [
        {
          "output_type": "stream",
          "text": [
            "Please enter your weight (Kg) 89\n",
            "Please enter your height (cm) 168\n",
            "Your BMI is 0.003153344671201814  You are underweight.You need to follow a proper diet\n"
          ],
          "name": "stdout"
        }
      ]
    },
    {
      "cell_type": "code",
      "metadata": {
        "id": "LNGX-n6cZw-x"
      },
      "source": [
        "import pandas as pd\n",
        "import numpy as np"
      ],
      "execution_count": null,
      "outputs": []
    },
    {
      "cell_type": "code",
      "metadata": {
        "colab": {
          "base_uri": "https://localhost:8080/"
        },
        "id": "am-cWV0vgmne",
        "outputId": "61e0e494-90a7-4bbe-ee93-392636bac0dc"
      },
      "source": [
        "sample = np.random.randn(6,4)\n",
        "sample"
      ],
      "execution_count": null,
      "outputs": [
        {
          "output_type": "execute_result",
          "data": {
            "text/plain": [
              "array([[ 1.03742334, -1.13700932,  0.9841967 ,  1.25321396],\n",
              "       [-0.00387618, -1.98180421, -0.38894764, -1.163491  ],\n",
              "       [-1.02213501,  0.69764772,  1.02531639,  0.24633063],\n",
              "       [ 0.4933949 ,  1.26296307, -0.31544103,  1.95314553],\n",
              "       [ 0.48162062, -0.92885927,  0.70592699, -0.41254246],\n",
              "       [ 0.05726254, -0.46571271, -1.43127128, -1.45973413]])"
            ]
          },
          "metadata": {
            "tags": []
          },
          "execution_count": 14
        }
      ]
    },
    {
      "cell_type": "code",
      "metadata": {
        "colab": {
          "base_uri": "https://localhost:8080/",
          "height": 225
        },
        "id": "jyelXlh-gsk9",
        "outputId": "ad02828a-8521-4c15-c12e-826150ae75cc"
      },
      "source": [
        "data1 = pd.DataFrame(sample,columns=[\"Cust1\",\"Cust2\",\"Cust3\",\"Cust4\"])\n",
        "data1"
      ],
      "execution_count": null,
      "outputs": [
        {
          "output_type": "execute_result",
          "data": {
            "text/html": [
              "<div>\n",
              "<style scoped>\n",
              "    .dataframe tbody tr th:only-of-type {\n",
              "        vertical-align: middle;\n",
              "    }\n",
              "\n",
              "    .dataframe tbody tr th {\n",
              "        vertical-align: top;\n",
              "    }\n",
              "\n",
              "    .dataframe thead th {\n",
              "        text-align: right;\n",
              "    }\n",
              "</style>\n",
              "<table border=\"1\" class=\"dataframe\">\n",
              "  <thead>\n",
              "    <tr style=\"text-align: right;\">\n",
              "      <th></th>\n",
              "      <th>Cust1</th>\n",
              "      <th>Cust2</th>\n",
              "      <th>Cust3</th>\n",
              "      <th>Cust4</th>\n",
              "    </tr>\n",
              "  </thead>\n",
              "  <tbody>\n",
              "    <tr>\n",
              "      <th>0</th>\n",
              "      <td>1.037423</td>\n",
              "      <td>-1.137009</td>\n",
              "      <td>0.984197</td>\n",
              "      <td>1.253214</td>\n",
              "    </tr>\n",
              "    <tr>\n",
              "      <th>1</th>\n",
              "      <td>-0.003876</td>\n",
              "      <td>-1.981804</td>\n",
              "      <td>-0.388948</td>\n",
              "      <td>-1.163491</td>\n",
              "    </tr>\n",
              "    <tr>\n",
              "      <th>2</th>\n",
              "      <td>-1.022135</td>\n",
              "      <td>0.697648</td>\n",
              "      <td>1.025316</td>\n",
              "      <td>0.246331</td>\n",
              "    </tr>\n",
              "    <tr>\n",
              "      <th>3</th>\n",
              "      <td>0.493395</td>\n",
              "      <td>1.262963</td>\n",
              "      <td>-0.315441</td>\n",
              "      <td>1.953146</td>\n",
              "    </tr>\n",
              "    <tr>\n",
              "      <th>4</th>\n",
              "      <td>0.481621</td>\n",
              "      <td>-0.928859</td>\n",
              "      <td>0.705927</td>\n",
              "      <td>-0.412542</td>\n",
              "    </tr>\n",
              "    <tr>\n",
              "      <th>5</th>\n",
              "      <td>0.057263</td>\n",
              "      <td>-0.465713</td>\n",
              "      <td>-1.431271</td>\n",
              "      <td>-1.459734</td>\n",
              "    </tr>\n",
              "  </tbody>\n",
              "</table>\n",
              "</div>"
            ],
            "text/plain": [
              "      Cust1     Cust2     Cust3     Cust4\n",
              "0  1.037423 -1.137009  0.984197  1.253214\n",
              "1 -0.003876 -1.981804 -0.388948 -1.163491\n",
              "2 -1.022135  0.697648  1.025316  0.246331\n",
              "3  0.493395  1.262963 -0.315441  1.953146\n",
              "4  0.481621 -0.928859  0.705927 -0.412542\n",
              "5  0.057263 -0.465713 -1.431271 -1.459734"
            ]
          },
          "metadata": {
            "tags": []
          },
          "execution_count": 15
        }
      ]
    },
    {
      "cell_type": "markdown",
      "metadata": {
        "id": "ZDyeGjjohlis"
      },
      "source": [
        "##List function will convert your String into separate literals and pass it as column name."
      ]
    },
    {
      "cell_type": "code",
      "metadata": {
        "colab": {
          "base_uri": "https://localhost:8080/",
          "height": 225
        },
        "id": "InWg3qVKg-Ef",
        "outputId": "29603791-461a-44eb-a894-873a31f19c17"
      },
      "source": [
        "data11 = pd.DataFrame(sample,columns=list(\"ABCD\"))\n",
        "data11"
      ],
      "execution_count": null,
      "outputs": [
        {
          "output_type": "execute_result",
          "data": {
            "text/html": [
              "<div>\n",
              "<style scoped>\n",
              "    .dataframe tbody tr th:only-of-type {\n",
              "        vertical-align: middle;\n",
              "    }\n",
              "\n",
              "    .dataframe tbody tr th {\n",
              "        vertical-align: top;\n",
              "    }\n",
              "\n",
              "    .dataframe thead th {\n",
              "        text-align: right;\n",
              "    }\n",
              "</style>\n",
              "<table border=\"1\" class=\"dataframe\">\n",
              "  <thead>\n",
              "    <tr style=\"text-align: right;\">\n",
              "      <th></th>\n",
              "      <th>A</th>\n",
              "      <th>B</th>\n",
              "      <th>C</th>\n",
              "      <th>D</th>\n",
              "    </tr>\n",
              "  </thead>\n",
              "  <tbody>\n",
              "    <tr>\n",
              "      <th>0</th>\n",
              "      <td>1.037423</td>\n",
              "      <td>-1.137009</td>\n",
              "      <td>0.984197</td>\n",
              "      <td>1.253214</td>\n",
              "    </tr>\n",
              "    <tr>\n",
              "      <th>1</th>\n",
              "      <td>-0.003876</td>\n",
              "      <td>-1.981804</td>\n",
              "      <td>-0.388948</td>\n",
              "      <td>-1.163491</td>\n",
              "    </tr>\n",
              "    <tr>\n",
              "      <th>2</th>\n",
              "      <td>-1.022135</td>\n",
              "      <td>0.697648</td>\n",
              "      <td>1.025316</td>\n",
              "      <td>0.246331</td>\n",
              "    </tr>\n",
              "    <tr>\n",
              "      <th>3</th>\n",
              "      <td>0.493395</td>\n",
              "      <td>1.262963</td>\n",
              "      <td>-0.315441</td>\n",
              "      <td>1.953146</td>\n",
              "    </tr>\n",
              "    <tr>\n",
              "      <th>4</th>\n",
              "      <td>0.481621</td>\n",
              "      <td>-0.928859</td>\n",
              "      <td>0.705927</td>\n",
              "      <td>-0.412542</td>\n",
              "    </tr>\n",
              "    <tr>\n",
              "      <th>5</th>\n",
              "      <td>0.057263</td>\n",
              "      <td>-0.465713</td>\n",
              "      <td>-1.431271</td>\n",
              "      <td>-1.459734</td>\n",
              "    </tr>\n",
              "  </tbody>\n",
              "</table>\n",
              "</div>"
            ],
            "text/plain": [
              "          A         B         C         D\n",
              "0  1.037423 -1.137009  0.984197  1.253214\n",
              "1 -0.003876 -1.981804 -0.388948 -1.163491\n",
              "2 -1.022135  0.697648  1.025316  0.246331\n",
              "3  0.493395  1.262963 -0.315441  1.953146\n",
              "4  0.481621 -0.928859  0.705927 -0.412542\n",
              "5  0.057263 -0.465713 -1.431271 -1.459734"
            ]
          },
          "metadata": {
            "tags": []
          },
          "execution_count": 19
        }
      ]
    },
    {
      "cell_type": "markdown",
      "metadata": {
        "id": "pOj3r8WuiJY8"
      },
      "source": [
        "###Dictionary to data Frames\n",
        "\n",
        "####The dictionary keys become your column names and values become the row values \n",
        "\n"
      ]
    },
    {
      "cell_type": "code",
      "metadata": {
        "id": "HTcohCQshNYp"
      },
      "source": [
        ""
      ],
      "execution_count": null,
      "outputs": []
    }
  ]
}