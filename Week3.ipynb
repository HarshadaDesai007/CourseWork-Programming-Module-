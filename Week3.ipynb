{
  "nbformat": 4,
  "nbformat_minor": 0,
  "metadata": {
    "colab": {
      "name": "Week3.ipynb",
      "provenance": [],
      "collapsed_sections": [],
      "authorship_tag": "ABX9TyMtg6ilEvObR9wp94TRz+5Q",
      "include_colab_link": true
    },
    "kernelspec": {
      "name": "python3",
      "display_name": "Python 3"
    }
  },
  "cells": [
    {
      "cell_type": "markdown",
      "metadata": {
        "id": "view-in-github",
        "colab_type": "text"
      },
      "source": [
        "<a href=\"https://colab.research.google.com/github/HarshadaDesai007/CourseWork-Programming-Module-/blob/main/Week3.ipynb\" target=\"_parent\"><img src=\"https://colab.research.google.com/assets/colab-badge.svg\" alt=\"Open In Colab\"/></a>"
      ]
    },
    {
      "cell_type": "code",
      "metadata": {
        "id": "TQdc6iTwTWNQ"
      },
      "source": [
        "def sum_three(a,b,c):\n",
        "  total = a+b+c\n",
        "  print(\"The sum of three numbers is {}\".format(total))"
      ],
      "execution_count": null,
      "outputs": []
    },
    {
      "cell_type": "code",
      "metadata": {
        "id": "ak68BPqrVE4-",
        "colab": {
          "base_uri": "https://localhost:8080/"
        },
        "outputId": "0dfd6cb4-cd64-4128-8262-7731f9942145"
      },
      "source": [
        "sum_three(2,4,8)"
      ],
      "execution_count": null,
      "outputs": [
        {
          "output_type": "stream",
          "text": [
            "The sum of three numbers is 14\n"
          ],
          "name": "stdout"
        }
      ]
    },
    {
      "cell_type": "code",
      "metadata": {
        "id": "ADahxQOrVHnV"
      },
      "source": [
        "def income_tax(income):\n",
        "  income_tax = 0.4 * income\n",
        "  print(\"The income tax is {}\".format(income_tax))"
      ],
      "execution_count": null,
      "outputs": []
    },
    {
      "cell_type": "code",
      "metadata": {
        "id": "rqhVaigHWbxI",
        "colab": {
          "base_uri": "https://localhost:8080/"
        },
        "outputId": "fe6e629a-da72-43b0-eedb-d6000adec532"
      },
      "source": [
        "income_tax(3200)"
      ],
      "execution_count": null,
      "outputs": [
        {
          "output_type": "stream",
          "text": [
            "The income tax is 1280.0\n"
          ],
          "name": "stdout"
        }
      ]
    },
    {
      "cell_type": "code",
      "metadata": {
        "id": "_lNhiIh_Wfhy"
      },
      "source": [
        "#Lamda functions\n",
        "tax = lambda salary : 0.4 * salary"
      ],
      "execution_count": null,
      "outputs": []
    },
    {
      "cell_type": "code",
      "metadata": {
        "id": "Fmhft1aMXoza",
        "colab": {
          "base_uri": "https://localhost:8080/"
        },
        "outputId": "c1adc045-75ce-4808-a416-00c949ce144f"
      },
      "source": [
        "tax(2000)"
      ],
      "execution_count": null,
      "outputs": [
        {
          "output_type": "execute_result",
          "data": {
            "text/plain": [
              "800.0"
            ]
          },
          "metadata": {
            "tags": []
          },
          "execution_count": 13
        }
      ]
    },
    {
      "cell_type": "markdown",
      "metadata": {
        "id": "u4iAKBzhZ-3j"
      },
      "source": [
        "#Fibonacci Series"
      ]
    },
    {
      "cell_type": "code",
      "metadata": {
        "id": "NEi4XJhYaDs8",
        "colab": {
          "base_uri": "https://localhost:8080/"
        },
        "outputId": "7c9ec5b8-a874-47d2-cf1d-f6616b4c914f"
      },
      "source": [
        "n = int(input(\"How many terms? \"))\n",
        "\n",
        "a, b = 0, 1\n",
        "count = 0\n",
        "\n",
        "if n <= 0:\n",
        "   print(\"Please enter a positive integer\")\n",
        "elif n == 1:\n",
        "   print(\"Fibonacci sequence upto\",n,\":\")\n",
        "   print(a)\n",
        "else:\n",
        "   print(\"Fibonacci series is:\")\n",
        "   while count < n:\n",
        "       print(a)\n",
        "       sum = a+b\n",
        "       a = b\n",
        "       b = sum\n",
        "       count = count + 1 \n"
      ],
      "execution_count": null,
      "outputs": [
        {
          "output_type": "stream",
          "text": [
            "How many terms? 4\n",
            "Fibonacci series is:\n",
            "0\n",
            "1\n",
            "1\n",
            "2\n"
          ],
          "name": "stdout"
        }
      ]
    },
    {
      "cell_type": "code",
      "metadata": {
        "id": "F321MSsEbtos"
      },
      "source": [
        "with open(\"Intro.txt\",\"w\") as f:\n",
        "  f.write(\"\\n Hello World\")"
      ],
      "execution_count": null,
      "outputs": []
    },
    {
      "cell_type": "code",
      "metadata": {
        "id": "hfAfxiPvoHOu"
      },
      "source": [
        "def take_input():\n",
        "  text = input(\"Enter your biography info : \")\n",
        "  length = len(text.split(\" \"))\n",
        "  print(length)\n"
      ],
      "execution_count": null,
      "outputs": []
    },
    {
      "cell_type": "code",
      "metadata": {
        "id": "JaBAmsQDoHk_",
        "colab": {
          "base_uri": "https://localhost:8080/"
        },
        "outputId": "3c83983b-221e-436b-f6a0-ea1f8d1ea827"
      },
      "source": [
        "limit = 100 - length\n",
        "if limit == 0:\n",
        "  with open(\"Biography.txt\",\"w+\") as f1:\n",
        "    f1.write(text)\n",
        "elif limit>0:\n",
        "      print(\"Word limit is less\")\n",
        "      take_input()\n",
        "else:\n",
        "  print(\"You have exceeded the limit\")\n",
        "\n",
        "\n",
        "\n",
        "\n"
      ],
      "execution_count": null,
      "outputs": [
        {
          "output_type": "stream",
          "text": [
            "Word limit is less\n",
            "Enter your biography info : Hello World\n",
            "2\n"
          ],
          "name": "stdout"
        }
      ]
    },
    {
      "cell_type": "code",
      "metadata": {
        "id": "YLH1KcWcoHoW",
        "colab": {
          "base_uri": "https://localhost:8080/"
        },
        "outputId": "39bb813c-1c88-4537-818a-073919c39791"
      },
      "source": [
        "#Program to find the Area of circle\n",
        "pi = 3.14\n",
        "r = float(input(\"Enter the radius of the circle: \"))\n",
        "area = pi * r * r\n",
        "print(\"Area of the circle is {}\".format(area))\n"
      ],
      "execution_count": null,
      "outputs": [
        {
          "output_type": "stream",
          "text": [
            "Enter the radius of the circle: 49\n",
            "Area of the circle is 7539.14\n"
          ],
          "name": "stdout"
        }
      ]
    },
    {
      "cell_type": "code",
      "metadata": {
        "id": "3twjYHlv7jyt",
        "colab": {
          "base_uri": "https://localhost:8080/"
        },
        "outputId": "7b6d1f6f-a473-45fb-a8d1-df913b1fb840"
      },
      "source": [
        "start = int(input(\"Enter the start index of your interval : \"))\n",
        "end = int(input(\"Enter the end index of your interval : \"))\n",
        "\n",
        "for n in range(start, end):\n",
        "   if n > 1:\n",
        "       for i in range(2, n):\n",
        "           if (n % i) == 0:\n",
        "               break\n",
        "       else:\n",
        "           print(n)"
      ],
      "execution_count": null,
      "outputs": [
        {
          "output_type": "stream",
          "text": [
            "Enter the start index of your interval : 1\n",
            "Enter the end index of your interval : 25\n",
            "2\n",
            "3\n",
            "5\n",
            "7\n",
            "11\n",
            "13\n",
            "17\n",
            "19\n",
            "23\n"
          ],
          "name": "stdout"
        }
      ]
    },
    {
      "cell_type": "code",
      "metadata": {
        "id": "vRrVY4D9AMiP",
        "colab": {
          "base_uri": "https://localhost:8080/"
        },
        "outputId": "9c95fcb3-0327-44d5-eb26-a9d197f0ca71"
      },
      "source": [
        "start = int(input(\"Enter the start index of your interval : \"))\n",
        "end = int(input(\"Enter the end index of your interval : \"))\n",
        "count_even, count_odd = 0, 0\n",
        "for n in range(start,end):  \n",
        "    if n % 2 == 0: \n",
        "        count_even += 1\n",
        "  \n",
        "    else: \n",
        "        count_odd += 1\n",
        "          \n",
        "print(\"There are {} even numbers in the list\".format(count_even)) \n",
        "print(\"There are {} odd numbers in your interval\".format(count_odd)) \n"
      ],
      "execution_count": null,
      "outputs": [
        {
          "output_type": "stream",
          "text": [
            "Enter the start index of your interval : 1\n",
            "Enter the end index of your interval : 10\n",
            "There are 4 even numbers in the list\n",
            "There are 5 odd numbers in your interval\n"
          ],
          "name": "stdout"
        }
      ]
    },
    {
      "cell_type": "code",
      "metadata": {
        "id": "RwfGr532ChC-",
        "colab": {
          "base_uri": "https://localhost:8080/"
        },
        "outputId": "61b39a39-8045-446d-e12d-23fe42c5f3f4"
      },
      "source": [
        "n=int(input(\"Enter the number to check if it is Fibonacci or not \"))\n",
        "a=1\n",
        "b=1\n",
        "sum=0\n",
        "if n==0 or n==1:\n",
        "    print(\"The numbers belong to the Fibonacci Series.\")\n",
        "else:\n",
        "    while sum<n:\n",
        "        sum=a+b\n",
        "        b=a\n",
        "        a=sum\n",
        "    if sum==n:\n",
        "        print(\"Yes! the number is a Fibonacci number\")\n",
        "    else:\n",
        "        print(\"No! the number is not a Fibonacci number\")"
      ],
      "execution_count": null,
      "outputs": [
        {
          "output_type": "stream",
          "text": [
            "Enter the number to check if it is Fibonacci or not 3\n",
            "Yes! the number is a Fibonacci number\n"
          ],
          "name": "stdout"
        }
      ]
    },
    {
      "cell_type": "code",
      "metadata": {
        "id": "G3Z3aVTOFJo2"
      },
      "source": [
        ""
      ],
      "execution_count": null,
      "outputs": []
    },
    {
      "cell_type": "code",
      "metadata": {
        "id": "hKGJpnLOGwkE",
        "colab": {
          "base_uri": "https://localhost:8080/"
        },
        "outputId": "87e8138a-e632-4c1d-b6bf-b276346a664d"
      },
      "source": [
        "start = int(input(\"Enter the start index of your interval : \"))\n",
        "end = int(input(\"Enter the end index of your interval : \"))\n",
        "for n in range(start,end):  \n",
        "    if n <0:\n",
        "       print(n,end=\" \")\n"
      ],
      "execution_count": null,
      "outputs": [
        {
          "output_type": "stream",
          "text": [
            "Enter the start index of your interval : -5\n",
            "Enter the end index of your interval : 10\n",
            "-5 -4 -3 -2 -1 "
          ],
          "name": "stdout"
        }
      ]
    },
    {
      "cell_type": "code",
      "metadata": {
        "id": "cz7NOKNEJfEB",
        "colab": {
          "base_uri": "https://localhost:8080/",
          "height": 246
        },
        "outputId": "ceb567c2-8397-4d75-a117-208e7ec5dc46"
      },
      "source": [
        "my_list = [] \n",
        "\n",
        "n = int(input(\"Enter number of elements : \")) \n",
        "elements = input_string.split()\n",
        "if elements>0:\n",
        "  my_list.append(elements)\n",
        "      \n",
        "print(my_list) \n"
      ],
      "execution_count": null,
      "outputs": [
        {
          "output_type": "stream",
          "text": [
            "Enter number of elements : 3\n"
          ],
          "name": "stdout"
        },
        {
          "output_type": "error",
          "ename": "NameError",
          "evalue": "ignored",
          "traceback": [
            "\u001b[0;31m---------------------------------------------------------------------------\u001b[0m",
            "\u001b[0;31mNameError\u001b[0m                                 Traceback (most recent call last)",
            "\u001b[0;32m<ipython-input-102-2d2d6b537cb4>\u001b[0m in \u001b[0;36m<module>\u001b[0;34m()\u001b[0m\n\u001b[1;32m      2\u001b[0m \u001b[0;34m\u001b[0m\u001b[0m\n\u001b[1;32m      3\u001b[0m \u001b[0mn\u001b[0m \u001b[0;34m=\u001b[0m \u001b[0mint\u001b[0m\u001b[0;34m(\u001b[0m\u001b[0minput\u001b[0m\u001b[0;34m(\u001b[0m\u001b[0;34m\"Enter number of elements : \"\u001b[0m\u001b[0;34m)\u001b[0m\u001b[0;34m)\u001b[0m\u001b[0;34m\u001b[0m\u001b[0;34m\u001b[0m\u001b[0m\n\u001b[0;32m----> 4\u001b[0;31m \u001b[0melements\u001b[0m \u001b[0;34m=\u001b[0m \u001b[0minput_string\u001b[0m\u001b[0;34m.\u001b[0m\u001b[0msplit\u001b[0m\u001b[0;34m(\u001b[0m\u001b[0;34m)\u001b[0m\u001b[0;34m\u001b[0m\u001b[0;34m\u001b[0m\u001b[0m\n\u001b[0m\u001b[1;32m      5\u001b[0m \u001b[0;32mif\u001b[0m \u001b[0melements\u001b[0m\u001b[0;34m>\u001b[0m\u001b[0;36m0\u001b[0m\u001b[0;34m:\u001b[0m\u001b[0;34m\u001b[0m\u001b[0;34m\u001b[0m\u001b[0m\n\u001b[1;32m      6\u001b[0m   \u001b[0mmy_list\u001b[0m\u001b[0;34m.\u001b[0m\u001b[0mappend\u001b[0m\u001b[0;34m(\u001b[0m\u001b[0melements\u001b[0m\u001b[0;34m)\u001b[0m\u001b[0;34m\u001b[0m\u001b[0;34m\u001b[0m\u001b[0m\n",
            "\u001b[0;31mNameError\u001b[0m: name 'input_string' is not defined"
          ]
        }
      ]
    },
    {
      "cell_type": "code",
      "metadata": {
        "id": "vENh38qVMIq6",
        "colab": {
          "base_uri": "https://localhost:8080/"
        },
        "outputId": "bc2f3539-a1cf-48e6-8e2c-d95f6240d093"
      },
      "source": [
        "numberList = []\n",
        "n = int(input(\"Enter the list size : \"))\n",
        "\n",
        "print(\"\\n\")\n",
        "for i in range(0, n):\n",
        "    print(\"Enter number at location\", i, \":\")\n",
        "    item = int(input())\n",
        "    if item>0:\n",
        "      numberList.append(item)\n",
        "print(numberList)\n"
      ],
      "execution_count": null,
      "outputs": [
        {
          "output_type": "stream",
          "text": [
            "Enter the list size : 2\n",
            "\n",
            "\n",
            "Enter number at location 0 :\n",
            "-1\n",
            "Enter number at location 1 :\n",
            "2\n",
            "[2]\n"
          ],
          "name": "stdout"
        }
      ]
    },
    {
      "cell_type": "code",
      "metadata": {
        "id": "BSF0PdMsNN5K",
        "colab": {
          "base_uri": "https://localhost:8080/"
        },
        "outputId": "83b6b18c-c144-4441-fd61-49f4c6f80f7c"
      },
      "source": [
        "negativeList = []\n",
        "n = int(input(\"Enter the size of list : \"))\n",
        "\n",
        "print(\"\\n\")\n",
        "for i in range(0, n):\n",
        "    print(\"Enter number at location\", i, \":\")\n",
        "    item = int(input())\n",
        "    if item<0:\n",
        "      negativeList.append(item)\n",
        "print(negativeList)"
      ],
      "execution_count": null,
      "outputs": [
        {
          "output_type": "stream",
          "text": [
            "Enter the size of list : 4\n",
            "\n",
            "\n",
            "Enter number at location 0 :\n",
            "-2\n",
            "Enter number at location 1 :\n",
            "3\n",
            "Enter number at location 2 :\n",
            "-5\n",
            "Enter number at location 3 :\n",
            "7\n",
            "[-2, -5]\n"
          ],
          "name": "stdout"
        }
      ]
    },
    {
      "cell_type": "code",
      "metadata": {
        "id": "P-AKfa_bRsZW",
        "colab": {
          "base_uri": "https://localhost:8080/"
        },
        "outputId": "5e2db186-29e6-4756-b155-960fb2311623"
      },
      "source": [
        "positiveList = []\n",
        "n = int(input(\"Enter the size of list : \"))\n",
        "\n",
        "print(\"\\n\")\n",
        "for i in range(0, n):\n",
        "    print(\"Enter number at location\", i, \":\")\n",
        "    item = int(input())\n",
        "    if item>0:\n",
        "      positiveList.append(item)\n",
        "print(positiveList)"
      ],
      "execution_count": null,
      "outputs": [
        {
          "output_type": "stream",
          "text": [
            "Enter the size of list : 5\n",
            "\n",
            "\n",
            "Enter number at location 0 :\n",
            "-2\n",
            "Enter number at location 1 :\n",
            "12\n",
            "Enter number at location 2 :\n",
            "18\n",
            "Enter number at location 3 :\n",
            "-17\n",
            "Enter number at location 4 :\n",
            "-113\n",
            "[12, 18]\n"
          ],
          "name": "stdout"
        }
      ]
    },
    {
      "cell_type": "code",
      "metadata": {
        "id": "EJwx6i12R62A",
        "colab": {
          "base_uri": "https://localhost:8080/"
        },
        "outputId": "1f43bbd4-b5f2-49be-a670-0bde3d7c8bc1"
      },
      "source": [
        "my_List = []\n",
        "n = int(input(\"Enter the size of list : \"))\n",
        "\n",
        "print(\"\\n\")\n",
        "for i in range(0, n):\n",
        "    print(\"Enter number at location\", i, \":\")\n",
        "    item = int(input())\n",
        "    my_List.append(item)\n",
        "\n",
        "result = [] \n",
        "for i in my_List: \n",
        "    if i not in result: \n",
        "        result.append(i) \n",
        "  \n",
        "# printing list after removal of duplicate elements \n",
        "print (\"The list after removing duplicates : \" + str(result))  "
      ],
      "execution_count": null,
      "outputs": [
        {
          "output_type": "stream",
          "text": [
            "Enter the size of list : 5\n",
            "\n",
            "\n",
            "Enter number at location 0 :\n",
            "1\n",
            "Enter number at location 1 :\n",
            "5\n",
            "Enter number at location 2 :\n",
            "2\n",
            "Enter number at location 3 :\n",
            "2\n",
            "Enter number at location 4 :\n",
            "5\n",
            "The list after removing duplicates : [1, 5, 2]\n"
          ],
          "name": "stdout"
        }
      ]
    },
    {
      "cell_type": "code",
      "metadata": {
        "id": "r5NP-yrMUP7w",
        "colab": {
          "base_uri": "https://localhost:8080/"
        },
        "outputId": "5d974607-5546-481a-a2ad-879cbf6fe572"
      },
      "source": [
        "my_List = []\n",
        "n = int(input(\"Enter the size of list : \"))\n",
        "\n",
        "print(\"\\n\")\n",
        "for i in range(0, n):\n",
        "    print(\"Enter number at location\", i, \":\")\n",
        "    item = int(input())\n",
        "    my_List.append(item)\n",
        "\n",
        "positiveCount = 0\n",
        "negativeCount = 0 \n",
        "for i in my_List: \n",
        "    if i < 0:\n",
        "      negativeCount+=1\n",
        "    else:\n",
        "      positiveCount+=1\n",
        "\n",
        "print (\"The are {} positive element/s and {} negative element/s in the list.\" .format(positiveCount,negativeCount)) "
      ],
      "execution_count": null,
      "outputs": [
        {
          "output_type": "stream",
          "text": [
            "Enter the size of list : 5\n",
            "\n",
            "\n",
            "Enter number at location 0 :\n",
            "-3\n",
            "Enter number at location 1 :\n",
            "3\n",
            "Enter number at location 2 :\n",
            "8\n",
            "Enter number at location 3 :\n",
            "4\n",
            "Enter number at location 4 :\n",
            "-6\n",
            "The are 3 positive elements and 2 negative element in the list.\n"
          ],
          "name": "stdout"
        }
      ]
    },
    {
      "cell_type": "code",
      "metadata": {
        "id": "nCyIO2_aWkWi",
        "colab": {
          "base_uri": "https://localhost:8080/"
        },
        "outputId": "786471d7-ceae-421f-ee1b-e6ea98bdef4b"
      },
      "source": [
        "n = int(input(\"Enter a number :\"))\n",
        "if n > 1:\n",
        "   for i in range(2,n):\n",
        "       if (n % i) == 0:\n",
        "           print(n,\"is not a prime number\")\n",
        "           break\n",
        "   else:\n",
        "       print(n,\"is a prime number\")\n",
        "else:\n",
        "   print(n,\"is not a prime number\")"
      ],
      "execution_count": null,
      "outputs": [
        {
          "output_type": "stream",
          "text": [
            "Enter a number :77\n",
            "77 is not a prime number\n"
          ],
          "name": "stdout"
        }
      ]
    },
    {
      "cell_type": "code",
      "metadata": {
        "id": "E1GKUJPzXqjM",
        "colab": {
          "base_uri": "https://localhost:8080/"
        },
        "outputId": "edeefd27-65c2-4ef9-feb2-22210d534701"
      },
      "source": [
        "def Fibonacci(n):\n",
        "    if n<0:\n",
        "        print(\"Invalid input\")\n",
        "    elif n==1:\n",
        "        return 0\n",
        "    elif n==2:\n",
        "        return 1\n",
        "    else:\n",
        "        return Fibonacci(n-1)+Fibonacci(n-2)\n",
        " \n",
        "n = int(input(\"Enter the number:  \"))\n",
        "Fibonacci(n)\n",
        " "
      ],
      "execution_count": null,
      "outputs": [
        {
          "output_type": "stream",
          "text": [
            "Enter the number:  20\n"
          ],
          "name": "stdout"
        },
        {
          "output_type": "execute_result",
          "data": {
            "text/plain": [
              "4181"
            ]
          },
          "metadata": {
            "tags": []
          },
          "execution_count": 131
        }
      ]
    },
    {
      "cell_type": "code",
      "metadata": {
        "id": "oKT9989MYyka"
      },
      "source": [
        ""
      ],
      "execution_count": null,
      "outputs": []
    }
  ]
}