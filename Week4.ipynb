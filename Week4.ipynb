{
  "nbformat": 4,
  "nbformat_minor": 0,
  "metadata": {
    "colab": {
      "name": "Week4.ipynb",
      "provenance": [],
      "authorship_tag": "ABX9TyOlCtX9TrW3l346elwPiAk/",
      "include_colab_link": true
    },
    "kernelspec": {
      "name": "python3",
      "display_name": "Python 3"
    }
  },
  "cells": [
    {
      "cell_type": "markdown",
      "metadata": {
        "id": "view-in-github",
        "colab_type": "text"
      },
      "source": [
        "<a href=\"https://colab.research.google.com/github/HarshadaDesai007/CourseWork-Programming-Module-/blob/main/Week4.ipynb\" target=\"_parent\"><img src=\"https://colab.research.google.com/assets/colab-badge.svg\" alt=\"Open In Colab\"/></a>"
      ]
    },
    {
      "cell_type": "code",
      "metadata": {
        "id": "j8Ar81kFZ363"
      },
      "source": [
        "import math"
      ],
      "execution_count": null,
      "outputs": []
    },
    {
      "cell_type": "code",
      "metadata": {
        "id": "2Eq1OGxnZ5eC",
        "colab": {
          "base_uri": "https://localhost:8080/"
        },
        "outputId": "e1af85ed-1c79-4551-bdc8-7409ce26b79c"
      },
      "source": [
        "n = 15\n",
        "result = math.log(n)\n",
        "print(result)"
      ],
      "execution_count": null,
      "outputs": [
        {
          "output_type": "stream",
          "text": [
            "2.70805020110221\n"
          ],
          "name": "stdout"
        }
      ]
    },
    {
      "cell_type": "code",
      "metadata": {
        "id": "8ZytqsTsa0Fv",
        "colab": {
          "base_uri": "https://localhost:8080/"
        },
        "outputId": "76c0e5af-bac1-4486-c0c5-5f2e4c62cbff"
      },
      "source": [
        "def add_to_cart():\n",
        "  grocery_item = {} \n",
        "grocery_history = [] \n",
        "\n",
        "stop = False \n",
        "\n",
        "while not stop:\n",
        "    item_name = input(\"Item name:\\n\")   \n",
        "    quantity = input(\"Quantity purchased:\\n\")   \n",
        "    cost = input(\"Price per item:\\n\")\n",
        "    grocery_item = {'name':item_name, 'number': int(quantity), 'price': float(cost)}\n",
        "    grocery_history.append(grocery_item)\n",
        "    user_input = input(\"Would you like to enter another item?\\nType 'c' for continue or 'q' to quit:\\n\")\n",
        "    if user_input == 'q':\n",
        "      stop = True\n",
        "      print(\"Your item list is {}\".format(grocery_history))\n",
        "\n",
        "purchase()\n",
        "    "
      ],
      "execution_count": null,
      "outputs": [
        {
          "output_type": "stream",
          "text": [
            "Item name:\n",
            "Milk\n",
            "Quantity purchased:\n",
            "2\n",
            "Price per item:\n",
            "1\n",
            "Would you like to enter another item?\n",
            "Type 'c' for continue or 'q' to quit:\n",
            "q\n",
            "Your item list is [{'name': 'Milk', 'number': 2, 'price': 1.0}]\n",
            "Enter which item you wantMilk\n",
            "Add more items\n"
          ],
          "name": "stdout"
        }
      ]
    },
    {
      "cell_type": "code",
      "metadata": {
        "id": "1Tg5ymq9AHES"
      },
      "source": [
        "def search(item):\n",
        "  if item in grocery_history:\n",
        "    return(grocery_history)\n",
        "  else:\n",
        "    return 0"
      ],
      "execution_count": null,
      "outputs": []
    },
    {
      "cell_type": "code",
      "metadata": {
        "id": "Zo5CEK62CETR"
      },
      "source": [
        "def delivery(charges):\n",
        "  addr = input(\"Enter your address\")\n",
        "  print(\"Thanks for choosing us. Your products will be delivered at address {} and total bill is {}\".format(addr,charges*1.20))"
      ],
      "execution_count": null,
      "outputs": []
    },
    {
      "cell_type": "code",
      "metadata": {
        "id": "TcNCc3N2BLCj"
      },
      "source": [
        "def purchase():\n",
        "  itm = input(\"Enter which item you want\")\n",
        "  price = search(itm)\n",
        "  if price==0:\n",
        "    print(\"Add more items\")\n",
        "    add_to_cart()\n",
        "  else:\n",
        "    ch = input(\"Do you want a delivery?\")\n",
        "    if ch==\"Yes\":\n",
        "      for i in grocery_item:\n",
        "         bill = 1.17*grocery_item[i]*grocery_item[i]\n",
        "\n",
        "     \n",
        "     \n",
        "    "
      ],
      "execution_count": null,
      "outputs": []
    },
    {
      "cell_type": "code",
      "metadata": {
        "id": "GyLdEQCDC00W"
      },
      "source": [
        ""
      ],
      "execution_count": null,
      "outputs": []
    }
  ]
}